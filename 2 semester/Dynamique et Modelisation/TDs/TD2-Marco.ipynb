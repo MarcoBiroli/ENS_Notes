{
 "cells": [
  {
   "cell_type": "code",
   "execution_count": 1,
   "metadata": {},
   "outputs": [],
   "source": [
    "%matplotlib notebook\n",
    "import numpy as np\n",
    "import matplotlib.pyplot as plt\n",
    "from mpl_toolkits.mplot3d import Axes3D\n",
    "from matplotlib.collections import LineCollection\n",
    "from matplotlib.colors import ListedColormap, BoundaryNorm"
   ]
  },
  {
   "cell_type": "markdown",
   "metadata": {},
   "source": [
    "# Phase portraits"
   ]
  },
  {
   "cell_type": "markdown",
   "metadata": {},
   "source": [
    "1. Give an example of two matrices $A, B$ such that $\\exp(A + B) \\neq \\exp(A)\\exp(B)$."
   ]
  },
  {
   "cell_type": "markdown",
   "metadata": {},
   "source": [
    "The following works:\n",
    "$$\n",
    "A = \\begin{pmatrix} 1 & 0 \\\\ 0 & 1\\end{pmatrix}, \\quad B = \\begin{pmatrix} 0 & 1 \\\\ 1 & 0 \\end{pmatrix}\n",
    "$$"
   ]
  },
  {
   "cell_type": "code",
   "execution_count": null,
   "metadata": {},
   "outputs": [],
   "source": []
  },
  {
   "cell_type": "code",
   "execution_count": 22,
   "metadata": {},
   "outputs": [],
   "source": [
    "Xmin = -10\n",
    "Xmax = 10\n",
    "nb = 100\n",
    "\n",
    "def phasePortrait(A, ax):\n",
    "    def dx(x):\n",
    "        return np.matmul(A, x)\n",
    "    Xtab1 = np.linspace(Xmin, Xmax, nb)\n",
    "    Xtab2 = np.linspace(Xmin, Xmax, nb)\n",
    "    Xtab = np.array([[x1, x2] for x1 in Xtab1 for x2 in Xtab2])\n",
    "    Xtab = np.transpose(Xtab)\n",
    "    x1, x2 = dx(Xtab)\n",
    "    ax.plot(Xtab[0,:], Xtab[1, :], x1)\n",
    "    ax.plot(Xtab[0,:], Xtab[1, :], x2)\n",
    "\n",
    "plt.show()"
   ]
  },
  {
   "cell_type": "code",
   "execution_count": null,
   "metadata": {},
   "outputs": [],
   "source": []
  }
 ],
 "metadata": {
  "kernelspec": {
   "display_name": "Python 3",
   "language": "python",
   "name": "python3"
  },
  "language_info": {
   "codemirror_mode": {
    "name": "ipython",
    "version": 3
   },
   "file_extension": ".py",
   "mimetype": "text/x-python",
   "name": "python",
   "nbconvert_exporter": "python",
   "pygments_lexer": "ipython3",
   "version": "3.7.2"
  }
 },
 "nbformat": 4,
 "nbformat_minor": 2
}
