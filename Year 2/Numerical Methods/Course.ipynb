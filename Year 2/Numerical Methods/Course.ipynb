{
 "cells": [
  {
   "cell_type": "markdown",
   "metadata": {},
   "source": [
    "# Temporal Discretization\n",
    "\n",
    "The goal of temporal discretization is to turn a differential equation into something the computer can solve numerically:\n",
    "$$\n",
    "\\frac{du}{dt} = f(u) ~~~~ u, f \\text{ in } \\mathcal{R}^N\n",
    "$$\n",
    "We start by presenting some easy standard first order approximation:\n",
    "## Forwards (Explicit) Euler:\n",
    "The forwards explicit euler consist in extrapolating previous data using a first order expansion:\n",
    "$$\n",
    "u^{FE} (t + \\Delta t) = u^{FE}(t) + \\Delta t f(u^{FE}(t))\n",
    "$$\n",
    "\n",
    "## Backwards (Implicit) Euler:\n",
    "The backward euler consists in solving the simplified first order expansion equation for $t$:\n",
    "$$\n",
    "u^{BE}(t + \\Delta t) = u^{BE}(t) + \\Delta t f(u^{BE}(t + \\Delta t)\n",
    "$$\n",
    "\n",
    "## Taylor expansion:\n",
    "We mentionned first order expansions however we haven't said what an expansion is. A taylor expansion is given as follows:\n",
    "$$\n",
    "u(t + \\Delta t) = u(t) + \\sum_{k  = 1}^{+\\infty} \\frac{\\Delta t^k}{k!} \\frac{d^{k} u}{d t^k} \\Big|_{t}\n",
    "$$\n",
    "First order methods are called first order because they match the first order expansion only up to the first term of the series expansion. Second order methods also exist the most famous being:\n",
    "\n",
    "## Second order methods:\n",
    "\n",
    "The most famous second order methods are presented here. The first is Adams-Bashforth (explicit) given by:\n",
    "$$\n",
    "u^{AB} (t + \\Delta t) = u^{AB} (t) + \\Delta t \\left( \\frac{3}{2} f(u^{AB}(t)) - \\frac{1}{2} f(u^{AB}(t - \\Delta t)) \\right)\n",
    "$$\n",
    "The Crank-Nicolson (implicit) also called trapezoidal:\n",
    "$$\n",
    "u^{CN}(t + \\Delta t) = u^{CN}(t) + \\Delta t \\left( \\frac{1}{2} f(u^{CN}(t)) + \\frac{1}{2} f(u^{CN}(t + \\Delta t)) \\right)\n",
    "$$\n",
    "Finally the Backwards differentiation (implicit):\n",
    "$$\n",
    "u^{BD}(t + \\Delta t) = \\frac{4}{3} u^{BD}(t) - \\frac{1}{3} u^{BD}(t - \\Delta t) + \\frac{2}{3} \\Delta t f(u^{BD}(t + \\Delta t))\n",
    "$$\n",
    "These are all second order, meaning that they match with the Taylor expansion up to the second term of the series expansion.\n",
    "\n",
    "\n",
    "# Stability\n",
    "\n",
    "We will illustrate the stability idea taking the heat equation as an example. The heat equation is given by:\n",
    "$$\n",
    "\\partial_t u = \\partial_{xx} u ~~ u^{FE}(x, t) = \\sum_{k = 1}^{k_{max}} \\hat{u}_k(t) \\sin kx ~~ \\partial_t \\hat{u}_k = - k^2 \\hat{u}_k\n",
    "$$\n",
    "Where we passed in the Fourrier space to solve the equation with a maximal cutoff since a computer cannot solve an infinite series. This admits an exact solution which is given by:\n",
    "$$\n",
    "\\hat{u}_k (t + \\Delta t) = e^{-k^2 \\Delta t} \\hat{u}_k(t)\n",
    "$$\n",
    "Now if we compare this with the explicit Euler we are going to get that:\n",
    "$$\n",
    "\\hat{u}_k^{FE}(t + \\Delta t) = \\hat{u}_k^{FE}(t) - k^2 \\Delta t \\hat{u}_k^{FE}(t) = (1 - k^2 \\Delta t) \\hat{u}_k^{FE}(t)\n",
    "$$\n",
    "Notice that as $k_{max} \\to +\\infty$ and $\\Delta t_{max} = \\frac{2}{k_{max}^2} \\to 0$. Notice that is a linear approximation of an exponential hence the allowed negative values will lead to an explosion of the error. In contrast for the implicit Euler we are going to get:\n",
    "$$\n",
    "\\hat{u}_k^{BE}(t + \\Delta t) = (1 + k^2 \\Delta t)^{-1} \\hat{u}_k^{BE}(t) ~~\\mbox{or in matrix form}~~ u^{BE}(t + \\Delta t) = (I - \\Delta t L)^{-1} u^{BE}(t)\n",
    "$$\n",
    "\n",
    "## A-stable methods:\n",
    "\n",
    "There is a name for this kinds of stabilities. An A-stable method is a method for which if the the exact solution goes to zero then the numerical solution shoulds also go to 0. We then need to compute an amplification factor $\\Phi(q)$ and for the solution to be stable we want $|\\Phi(q)| < 1$ and for it to be L-stable we want $|\\Phi(q)| \\to 0$ as $q \\to \\infty$. "
   ]
  },
  {
   "cell_type": "markdown",
   "metadata": {},
   "source": [
    "# TD1 "
   ]
  },
  {
   "cell_type": "code",
   "execution_count": null,
   "metadata": {},
   "outputs": [],
   "source": []
  }
 ],
 "metadata": {
  "kernelspec": {
   "display_name": "Python 3",
   "language": "python",
   "name": "python3"
  },
  "language_info": {
   "codemirror_mode": {
    "name": "ipython",
    "version": 3
   },
   "file_extension": ".py",
   "mimetype": "text/x-python",
   "name": "python",
   "nbconvert_exporter": "python",
   "pygments_lexer": "ipython3",
   "version": "3.7.2"
  }
 },
 "nbformat": 4,
 "nbformat_minor": 2
}
