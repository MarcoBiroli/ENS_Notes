{
 "cells": [
  {
   "cell_type": "markdown",
   "metadata": {},
   "source": [
    "# TD7: Searching for steady states\n",
    "\n",
    "The goal of this TD is to get familiar with a few techniques that allow you to find the steady states of a dynamical system from a numerical point of view.\n",
    "\n",
    "We will be interested in the following differential equation:\n",
    "$$\n",
    "    \\dot{x} = -x^3 + 5x + \\mu,\n",
    "$$\n",
    "that depends on a real parameter $\\mu$. Here, the steady states are simply the roots of the polynomial $f_\\mu(x) = -x^3 + 5x + \\mu$. Depending on the value of $\\mu$, there can be one, two or three real roots.\n",
    "\n",
    "We will need the usual Python packages:"
   ]
  },
  {
   "cell_type": "code",
   "execution_count": 65,
   "metadata": {},
   "outputs": [],
   "source": [
    "# To draw matplotlib plots within this notebook.\n",
    "%matplotlib inline\n",
    "\n",
    "import numpy as np\n",
    "import matplotlib.pyplot as plt\n",
    "import scipy.linalg as linalg"
   ]
  },
  {
   "cell_type": "markdown",
   "metadata": {},
   "source": [
    "## Part 1: Runge-Kutta approach: an uncomplete bifurcation diagram\n",
    "\n",
    "A first approach to find the steady states of a dynamical system is to draw some various initial conditions and integrate the corresponding Cauchy problems for a sufficient long time. This time has to be long enough to reach a steady state, at least approximately.\n",
    "\n",
    "*Note that in general, a solution of a dynamical system is not guaranteed to converge, but for our particular system any solution will converge to a steady state (can you see why?).*\n",
    "\n",
    "We thus want to solve multiple Cauchy problems such as:\n",
    "$$\n",
    "\\begin{cases}\n",
    "    \\dot{x} &= f_\\mu (x)\\\\\n",
    "    x (0) &= x_0\n",
    "\\end{cases}\n",
    "$$\n",
    "with $x_0$ chosen from a set of relevant values $\\{x_0^{(1)}, ..., x_0^{(m)}\\}$.\n",
    "\n",
    "We will use a Runge-Kutta method to integrate these systems. We recall the RK4 method (Runge-Kutta method of fourth order) that computes the value of the numerical solution $x (t)$ as follows:\n",
    "$$\n",
    "\\begin{align}\n",
    "    X_1 &= \\Delta t~f_\\mu\\left(x (t)\\right)\\\\\n",
    "    X_2 &= \\Delta t~f_\\mu\\left(x(t) + \\frac{X_1}{2}\\right)\\\\\n",
    "    X_3 &= \\Delta t~f_\\mu\\left(x(t) + \\frac{X_2}{2}\\right)\\\\\n",
    "    X_4 &= \\Delta t~f_\\mu\\left(x(t) + X_3\\right)\\\\\n",
    "    x (t + \\Delta t) &= x (t) + \\frac1{6}(X_1 + 2X_2 + 2X_3 + X_4)\n",
    "\\end{align}\n",
    "$$\n",
    "\n",
    "For a given initial condition $x_0$, we will solve the Cauchy problem on $[0, T]$, with $T$ big enough to claim that the numerical solution has approximately converged. In practice, we can use the following criterion to define $T$: let $T$ be the smallest positive number such as $|f_\\mu(x(T))| \\leq \\sigma$, with $\\sigma$ an arbitrary threshold .\n",
    "\n",
    "**1)** Define a $rk4$ function which returns the value of $x(t+\\Delta t)$ in function of $x(t)$, $f$, and $\\Delta t$ using the previous Runge-Kutta method."
   ]
  },
  {
   "cell_type": "code",
   "execution_count": 2,
   "metadata": {},
   "outputs": [],
   "source": [
    "def rk4(xt, f, dt):\n",
    "    X1 = dt * f(xt)\n",
    "    X2 = dt * f(xt + X1/2)\n",
    "    X3 = dt * f(xt + X2/2)\n",
    "    X4 = dt * f(xt + X3)\n",
    "    return xt + 1/6 * (X1 + 2 * X2 + 2 * X3 + X4)\n"
   ]
  },
  {
   "cell_type": "markdown",
   "metadata": {},
   "source": [
    "**2)** For given values of $\\mu$, $x_0$ and $\\sigma$, integrate the system on $[0,T]$. We will plot the corresponding solution. Give an approximate value of the steady state $x_\\infty$ reached by this solution."
   ]
  },
  {
   "cell_type": "code",
   "execution_count": 11,
   "metadata": {},
   "outputs": [
    {
     "data": {
      "image/png": "[encoded data removed]",
      "text/plain": [
       "<Figure size 432x288 with 1 Axes>"
      ]
     },
     "metadata": {
      "needs_background": "light"
     },
     "output_type": "display_data"
    },
    {
     "name": "stdout",
     "output_type": "stream",
     "text": [
      "x_infty = [2.90547401 2.74734654 1.56582677]\n"
     ]
    }
   ],
   "source": [
    "def build_f(mu):\n",
    "    return (lambda x : - x**3 + 5*x + mu)\n",
    "\n",
    "def integrate(x0, mu, sigma, dt, plot = False):\n",
    "    f = build_f(mu)\n",
    "    x = x0\n",
    "    xtab = [x0]\n",
    "    ttab = [0]\n",
    "    t = 0\n",
    "    while np.dot(f(x), f(x)) > sigma**2:\n",
    "        x = rk4(x, f, dt)\n",
    "        t += dt\n",
    "        xtab.append(x)\n",
    "        ttab.append(t)\n",
    "    if plot:\n",
    "        plt.plot(ttab, xtab)\n",
    "        plt.show()\n",
    "    return ttab, xtab\n",
    "\n",
    "ttab, xtab = integrate(np.array([10, -2, 6]), np.array([10, 7, -4]), 1e-2, 1e-2, plot = True)\n",
    "print('x_infty = {}'.format(xtab[-1]))\n"
   ]
  },
  {
   "cell_type": "markdown",
   "metadata": {},
   "source": [
    "Now that we know how to integrate our system and to approximate its steady states, we want to describe the dependence of the steady states to the $\\mu$ parameter. We want to build a **bifurcation diagram**, which represents the steady states $x_\\infty$ as a function of $\\mu$ (there can be several steady states for a given value of $\\mu$ as mentioned above).\n",
    "\n",
    "**3)** Plot the bifurcation diagram of this dynamical system. We can typically probe values of $\\mu$ that range from $-10$ to $10$, and for each of these values, probe values of $x_0$ that range from $-5$ to $5$."
   ]
  },
  {
   "cell_type": "code",
   "execution_count": 40,
   "metadata": {},
   "outputs": [
    {
     "data": {
      "image/png": "[encoded data removed]",
      "text/plain": [
       "<Figure size 432x288 with 1 Axes>"
      ]
     },
     "metadata": {
      "needs_background": "light"
     },
     "output_type": "display_data"
    }
   ],
   "source": [
    "steadystates = []\n",
    "for x0 in np.linspace(-5, 5, 50):\n",
    "    xinftytab = []\n",
    "    mutab =  np.linspace(-10, 10, 100)\n",
    "    for mu in mutab:\n",
    "        ttab, xtab = integrate(x0, mu, 1e-2, 1e-2, plot = False)\n",
    "        xinfty = xtab[-1]\n",
    "        xinftytab.append(xinfty)\n",
    "    plt.plot(mutab, xinftytab, color = 'blue')\n",
    "\n",
    "plt.show()"
   ]
  },
  {
   "cell_type": "markdown",
   "metadata": {},
   "source": [
    "**4)** Can we find all the steady states of our system for a given value of $\\mu$ with this method?\n",
    "\n",
    "## Part 2: Newton's method: a complete bifurcation diagram\n",
    "\n",
    "We need another technique if we want to find the unstable steady states. **Newton's method** is a general technique that find the zeros of a function independently of how stable these zeros are in the context of a dynamical system.\n",
    "\n",
    "For a function $f$ defined over the real numbers, starting from a real $x_0$, Newton's method converges towards a zero of $f$ through the following recurrent sequence:\n",
    "$$\n",
    "    x_{n+1} = x_n - \\frac{f(x_n)}{f^\\prime(x_n)}\n",
    "$$\n",
    "Obviously the choice of $x_0$ will be determinant to the limit value of the previous sequence. We will need to try several initial conditions to find every zero of $f$.\n",
    "\n",
    "**5)** Build a *newton* routine that computes the value of $x_{n+1}$ as a function of $f$, $f^\\prime$ and $x_n$."
   ]
  },
  {
   "cell_type": "code",
   "execution_count": 16,
   "metadata": {},
   "outputs": [],
   "source": [
    "def newton(x, f, fp):\n",
    "    return x - f(x)/fp(x)"
   ]
  },
  {
   "cell_type": "markdown",
   "metadata": {},
   "source": [
    "**6)** Observe Newton's method quadratic convergence to a zero of $f_\\mu$ polynomial printing $\\left(f_\\mu\\left(x_n\\right)\\right)_n$ first terms for given values of $x_0$ and $\\mu$. Do we always have a quadratic convergence of this method?"
   ]
  },
  {
   "cell_type": "code",
   "execution_count": 28,
   "metadata": {},
   "outputs": [
    {
     "data": {
      "image/png": "[encoded data removed]",
      "text/plain": [
       "<Figure size 432x288 with 1 Axes>"
      ]
     },
     "metadata": {
      "needs_background": "light"
     },
     "output_type": "display_data"
    }
   ],
   "source": [
    "x0 = 10\n",
    "mu = 5\n",
    "\n",
    "ftab = []\n",
    "ntab = np.arange(100)\n",
    "f = build_f(mu)\n",
    "x = x0\n",
    "\n",
    "for n in ntab:\n",
    "    x = newton(x, f, lambda x : - 2 * x**2 + 5)\n",
    "    ftab.append(np.abs(f(x)))\n",
    "    \n",
    "plt.semilogy(ntab, ftab)\n",
    "plt.show()"
   ]
  },
  {
   "cell_type": "markdown",
   "metadata": {},
   "source": [
    "**7)** Plot a new bifurcation diagram of our dynamical system using Newton's method. Does it seem complete now?"
   ]
  },
  {
   "cell_type": "code",
   "execution_count": 39,
   "metadata": {},
   "outputs": [
    {
     "data": {
      "image/png": "[encoded data removed]",
      "text/plain": [
       "<Figure size 432x288 with 1 Axes>"
      ]
     },
     "metadata": {
      "needs_background": "light"
     },
     "output_type": "display_data"
    }
   ],
   "source": [
    "def integrate_newton(x0, mu, sigma):\n",
    "    f = build_f(mu)\n",
    "    x = x0\n",
    "    t = 0\n",
    "    xtab = [x0]\n",
    "    ttab = [0]\n",
    "    max_iter = 1000\n",
    "    \n",
    "    while np.dot(f(x), f(x)) > sigma**2 and t < max_iter:\n",
    "        x = newton(x, f, lambda x : - 2 * x**2 + 5)\n",
    "        t += 1\n",
    "        xtab.append(x)\n",
    "        ttab.append(t)\n",
    "    return ttab, xtab, t < max_iter\n",
    "\n",
    "steadystates = []\n",
    "for x0 in np.linspace(-5, 5, 50):\n",
    "    xinftytab = []\n",
    "    mutab =  np.linspace(-10, 10, 100)\n",
    "    for mu in mutab:\n",
    "        ttab, xtab, convg = integrate_newton(x0, mu, 1e-1)\n",
    "        if convg:\n",
    "            xinfty = xtab[-1]\n",
    "            xinftytab.append(xinfty)\n",
    "        else:\n",
    "            xinftytab.append(np.nan)\n",
    "    plt.plot(mutab, xinftytab, color = 'blue')\n",
    "        \n",
    "plt.show()\n"
   ]
  },
  {
   "cell_type": "markdown",
   "metadata": {},
   "source": [
    "## Bonus part: The Newton fractal\n",
    "\n",
    "The [Newton fractal](https://en.wikipedia.org/wiki/Newton_fractal) is a fractal figure which stems from the application of Newton's method to the following complex polynomial:\n",
    "$$\n",
    "    f(z) = z^3 - 1\n",
    "$$\n",
    "The roots of the previous polynomial are well known, these are the third roots of unity: $\\{1, e^{\\frac{2i\\pi}{3}}, e^{-\\frac{2i\\pi}{3}}\\}$. Still, it is interesting to approximate these roots with a Newton's method applied to a regulard grid of initial values in the complex plane as spectacular properties of convergence come out from Newton's algorithm.\n",
    "\n",
    "In the following, we will identify $\\mathbb{C}$ to $\\mathbb{R}^2$ for pedagogical purposes. Therefore Newton's method is to be applied to a function $f:\\mathbb{R}^2\\rightarrow\\mathbb{R}^2$ defined as follows:\n",
    "$$\n",
    "    f (x, y) = \\left( \\begin{array}{c} f_1 (x,y) \\\\ f_2 (x,y)\\end{array}\\right) = \\left( \\begin{array}{c} \\Re\\left(\\left(x+iy\\right)^3 - 1\\right) \\\\ \\Im\\left(\\left(x+iy\\right)^3 - 1\\right)\\end{array}\\right)\n",
    "$$\n",
    "where $\\Re$ and $\\Im$ respectively denotes the real and imaginary part of a given complex number.\n",
    "\n",
    "For a vector-valued function such as above $f$ function, Newton's method can be written as follows:\n",
    "$$\n",
    "    X_{n+1} = X_n - \\left[\\text{D}f(X_n)\\right]^{-1}f(X_n)\n",
    "$$\n",
    "where $X_n$ is a vector (of dimension 2 for above $f$ function) and $\\text{D}f(X_n)$ is the Jacobian matrix of $f$ at $X_n$. We recall the general expression of the Jacobian matrix for a function $f:\\mathbb{R}^m\\rightarrow\\mathbb{R}^m$:\n",
    "$$\n",
    "    \\text{D}f(X) = \\left(\\frac{\\partial f_i}{\\partial x_j}(X)\\right)_{i, j\\in\\{1,...,m\\}}\n",
    "$$\n",
    "\n",
    "**8)** What are the analytical expressions of $f$ and $\\text{D}f$?\n",
    "\n",
    "**9)** Perform Newton's method on $f$ for a dense enough 2D grid of initial conditions and for a uniform number of Newton iterations. We will use [scipy.linalg.inv](https://docs.scipy.org/doc/scipy/reference/generated/scipy.linalg.inv.html) function to invert the Jacobian matrix."
   ]
  },
  {
   "cell_type": "markdown",
   "metadata": {},
   "source": [
    "We have that:\n",
    "$$\n",
    "f(x, y) = \\begin{pmatrix} x^3 - 3 x y^2 - 1\\\\ 3 x^2 y - y^3 \\end{pmatrix}\n",
    "$$"
   ]
  },
  {
   "cell_type": "markdown",
   "metadata": {},
   "source": [
    "And therefore:\n",
    "$$\n",
    "D f = \\begin{pmatrix} \n",
    "3 x^2 - 3 y^2 & - 6 x y\\\\\n",
    "6 x y & 3x^2 - 3 y^2\n",
    "\\end{pmatrix}\n",
    "$$\n",
    "Which inverse can be readily obtained:\n",
    "$$\n",
    "Df^{-1} = \\frac{1}{9 x^4 + 21 x^2 y^2 + 6 y^4} Df^T\n",
    "$$"
   ]
  },
  {
   "cell_type": "code",
   "execution_count": 66,
   "metadata": {},
   "outputs": [],
   "source": [
    "def f(M):\n",
    "    x, y = M\n",
    "    return np.array([x**3 - 3 * x * y**2 - 1, 3 * x**2 * y - y**3])\n",
    "\n",
    "def invDf(M):\n",
    "    x, y = M\n",
    "    prefactor = 1/(9 * x**4 + 21 * x**2 * y **2 + 6 * y**4)\n",
    "    return prefactor * np.array([[3*x**2 - 3 * y **2,  6 * x * y], [-6 * x * y, 3 * x**2 - 3 * y**2]])\n",
    "\n",
    "\n",
    "def newton_mat(x, f, invDf):\n",
    "    return x - invDf(x) @ f(x)\n"
   ]
  },
  {
   "cell_type": "markdown",
   "metadata": {},
   "source": [
    "**10)** Plot using [pcolor](https://matplotlib.org/api/_as_gen/matplotlib.pyplot.pcolor.html) function for each point of the previous grid of initial conditions the complex argument of the final term of the Newton sequence (we can use [numpy.angle](https://docs.scipy.org/doc/numpy/reference/generated/numpy.angle.html) function to do that). You should observe a fractal figure called the *Newton fractal*. Does Newton's method always converge in this case?"
   ]
  },
  {
   "cell_type": "code",
   "execution_count": 71,
   "metadata": {},
   "outputs": [
    {
     "name": "stderr",
     "output_type": "stream",
     "text": [
      "c:\\python37\\lib\\site-packages\\ipykernel_launcher.py:7: RuntimeWarning: divide by zero encountered in double_scalars\n",
      "  import sys\n",
      "c:\\python37\\lib\\site-packages\\ipykernel_launcher.py:8: RuntimeWarning: invalid value encountered in multiply\n",
      "  \n"
     ]
    },
    {
     "data": {
      "image/png": "[encoded data removed]",
      "text/plain": [
       "<Figure size 720x504 with 2 Axes>"
      ]
     },
     "metadata": {
      "needs_background": "light"
     },
     "output_type": "display_data"
    }
   ],
   "source": [
    "iters = np.arange(50)\n",
    "dx, dy = 0.05, 0.05\n",
    "\n",
    "y, x = np.mgrid[-5:5+dy:dy, -5:5+dx:dx]\n",
    "\n",
    "z = np.zeros(y.shape)\n",
    "\n",
    "for ix in range(x.shape[0]):\n",
    "    for iy in range(y.shape[1]):\n",
    "        cur_x, cur_y = x[ix, iy], y[ix, iy]\n",
    "        M = np.array([cur_x, cur_y])\n",
    "        for i in iters:\n",
    "            M = newton_mat(M, f, invDf)\n",
    "        z[ix, iy] = np.angle(M[0] + 1j * M[1])\n",
    "        \n",
    "plt.figure(figsize = (10, 7))\n",
    "plt.pcolor(x, y, z, cmap='RdBu', vmin = -np.pi, vmax = np.pi)\n",
    "plt.colorbar()\n",
    "plt.show()"
   ]
  },
  {
   "cell_type": "code",
   "execution_count": null,
   "metadata": {},
   "outputs": [],
   "source": []
  }
 ],
 "metadata": {
  "kernelspec": {
   "display_name": "Python 3",
   "language": "python",
   "name": "python3"
  },
  "language_info": {
   "codemirror_mode": {
    "name": "ipython",
    "version": 3
   },
   "file_extension": ".py",
   "mimetype": "text/x-python",
   "name": "python",
   "nbconvert_exporter": "python",
   "pygments_lexer": "ipython3",
   "version": "3.7.2"
  }
 },
 "nbformat": 4,
 "nbformat_minor": 2
}
