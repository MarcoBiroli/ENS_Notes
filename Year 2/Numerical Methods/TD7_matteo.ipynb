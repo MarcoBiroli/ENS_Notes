{
 "cells": [
  {
   "cell_type": "markdown",
   "metadata": {},
   "source": [
    "# TD7: Searching for steady states\n",
    "\n",
    "The goal of this TD is to get familiar with a few techniques that allow you to find the steady states of a dynamical system from a numerical point of view.\n",
    "\n",
    "We will be interested in the following differential equation:\n",
    "$$\n",
    "    \\dot{x} = -x^3 + 5x + \\mu,\n",
    "$$\n",
    "that depends on a real parameter $\\mu$. Here, the steady states are simply the roots of the polynomial $f_\\mu(x) = -x^3 + 5x + \\mu$. Depending on the value of $\\mu$, there can be one, two or three real roots.\n",
    "\n",
    "We will need the usual Python packages:"
   ]
  },
  {
   "cell_type": "code",
   "execution_count": 1,
   "metadata": {},
   "outputs": [],
   "source": [
    "# To draw matplotlib plots within this notebook.\n",
    "%matplotlib inline\n",
    "\n",
    "import numpy as np\n",
    "import matplotlib.pyplot as plt"
   ]
  },
  {
   "cell_type": "markdown",
   "metadata": {},
   "source": [
    "## Part 1: Runge-Kutta approach: an uncomplete bifurcation diagram\n",
    "\n",
    "A first approach to find the steady states of a dynamical system is to draw some various initial conditions and integrate the corresponding Cauchy problems for a sufficient long time. This time has to be long enough to reach a steady state, at least approximately.\n",
    "\n",
    "*Note that in general, a solution of a dynamical system is not guaranteed to converge, but for our particular system any solution will converge to a steady state (can you see why?).*\n",
    "\n",
    "We thus want to solve multiple Cauchy problems such as:\n",
    "$$\n",
    "\\begin{cases}\n",
    "    \\dot{x} &= f_\\mu (x)\\\\\n",
    "    x (0) &= x_0\n",
    "\\end{cases}\n",
    "$$\n",
    "with $x_0$ chosen from a set of relevant values $\\{x_0^{(1)}, ..., x_0^{(m)}\\}$.\n",
    "\n",
    "We will use a Runge-Kutta method to integrate these systems. We recall the RK4 method (Runge-Kutta method of fourth order) that computes the value of the numerical solution $x (t)$ as follows:\n",
    "$$\n",
    "\\begin{align}\n",
    "    X_1 &= \\Delta t~f_\\mu\\left(x (t)\\right)\\\\\n",
    "    X_2 &= \\Delta t~f_\\mu\\left(x(t) + \\frac{X_1}{2}\\right)\\\\\n",
    "    X_3 &= \\Delta t~f_\\mu\\left(x(t) + \\frac{X_2}{2}\\right)\\\\\n",
    "    X_4 &= \\Delta t~f_\\mu\\left(x(t) + X_3\\right)\\\\\n",
    "    x (t + \\Delta t) &= x (t) + \\frac1{6}(X_1 + 2X_2 + 2X_3 + X_4)\n",
    "\\end{align}\n",
    "$$\n",
    "\n",
    "For a given initial condition $x_0$, we will solve the Cauchy problem on $[0, T]$, with $T$ big enough to claim that the numerical solution has approximately converged. In practice, we can use the following criterion to define $T$: let $T$ be the smallest positive number such as $|f_\\mu(x(T))| \\leq \\sigma$, with $\\sigma$ an arbitrary threshold .\n",
    "\n",
    "**1)** Define a $rk4$ function which returns the value of $x(t+\\Delta t)$ in function of $x(t)$, $f$, and $\\Delta t$ using the previous Runge-Kutta method."
   ]
  },
  {
   "cell_type": "code",
   "execution_count": 20,
   "metadata": {},
   "outputs": [],
   "source": [
    "def fun_third(x, mu):\n",
    "    return -x**3 + 5*x + mu"
   ]
  },
  {
   "cell_type": "code",
   "execution_count": 3,
   "metadata": {},
   "outputs": [],
   "source": [
    "def rk4_step(f, dt, xt):\n",
    "    X1 = dt * f(xt)\n",
    "    X2 = dt * f(xt + X1/2)\n",
    "    X3 = dt * f(xt + X2/2)\n",
    "    X4 = dt * f(xt + X3)\n",
    "    return xt + (X1 + 2*X2 + 2*X3 + X4)/6"
   ]
  },
  {
   "cell_type": "markdown",
   "metadata": {},
   "source": [
    "**2)** For given values of $\\mu$, $x_0$ and $\\sigma$, integrate the system on $[0,T]$. We will plot the corresponding solution. Give an approximate value of the steady state $x_\\infty$ reached by this solution."
   ]
  },
  {
   "cell_type": "code",
   "execution_count": 26,
   "metadata": {},
   "outputs": [],
   "source": [
    "def rk4(f, x0, dt=0.01, sigma=0.01, max_iter_flag=True, max_iter=1000, verbose=False, ret_all=False, n_ret=1):\n",
    "    x = np.array([x0])\n",
    "    \n",
    "    if max_iter_flag:\n",
    "        i = 0\n",
    "        while (i < max_iter) and (np.abs(f(x[i])) > sigma):\n",
    "            x = np.append(x, rk4_step(f, dt, x[i]))\n",
    "            i += 1\n",
    "    else:\n",
    "        i = 0\n",
    "        while np.abs(f(x[i])) > sigma:\n",
    "            x = np.append(x, rk4_step(f, dt, x[i]))\n",
    "            i += 1\n",
    "    \n",
    "    if verbose:\n",
    "        if max_iter_flag and max_iter_flag and (i == max_iter):\n",
    "            print('Max Iter Number Reached')\n",
    "        else:\n",
    "            print('Below Treshold for i={}'.format(i))\n",
    "            \n",
    "        if ret_all:\n",
    "            return x\n",
    "        else:\n",
    "            return x[-n_ret:]\n",
    "    else:\n",
    "        if ret_all:\n",
    "            return x\n",
    "        else:\n",
    "            return x[-n_ret:]"
   ]
  },
  {
   "cell_type": "markdown",
   "metadata": {},
   "source": [
    "Now that we know how to integrate our system and to approximate its steady states, we want to describe the dependence of the steady states to the $\\mu$ parameter. We want to build a **bifurcation diagram**, which represents the steady states $x_\\infty$ as a function of $\\mu$ (there can be several steady states for a given value of $\\mu$ as mentioned above).\n",
    "\n",
    "**3)** Plot the bifurcation diagram of this dynamical system. We can typically probe values of $\\mu$ that range from $-10$ to $10$, and for each of these values, probe values of $x_0$ that range from $-5$ to $5$."
   ]
  },
  {
   "cell_type": "code",
   "execution_count": 23,
   "metadata": {},
   "outputs": [
    {
     "data": {
      "image/png": "[encoded data removed]",
      "text/plain": [
       "<Figure size 864x504 with 1 Axes>"
      ]
     },
     "metadata": {
      "needs_background": "light"
     },
     "output_type": "display_data"
    }
   ],
   "source": [
    "def bif_diag_rk4(f, dt=0.01, sigma=0.01, mu_range=[-10, 10], mu_steps=1024, x0_range = [-5, 5], x0_steps = 256):\n",
    "    \"\"\"\n",
    "    The function f should have x has first argument and mu has second argument.\n",
    "    \"\"\"\n",
    "    x0s = np.linspace(x0_range[0], x0_range[1], x0_steps)\n",
    "    mus = np.linspace(mu_range[0], mu_range[1], mu_steps)\n",
    "    \n",
    "    plt.figure(figsize = (12, 7))\n",
    "    for i in range(len(mus)):\n",
    "        asymp = np.empty((1,))\n",
    "        \n",
    "        first_flag = True\n",
    "        for j in range(len(x0s)):    \n",
    "            tmp = rk4(lambda x: f(x, mus[i]), x0s[j], dt=dt, sigma=sigma, max_iter_flag=False)\n",
    "            \n",
    "            if first_flag:\n",
    "                asymp[0] = tmp\n",
    "                first_flag = False\n",
    "            \n",
    "            foo = tmp*np.ones(asymp.shape)\n",
    "            \n",
    "            if not ((np.abs(asymp - foo) < 0.01).any()):\n",
    "                asymp = np.append(asymp, tmp)\n",
    "        \n",
    "        plt.scatter(mus[i]*np.ones(asymp.shape), asymp, marker='.', color='black')\n",
    "    \n",
    "    plt.xlabel(r\"$\\mu$\")\n",
    "    plt.ylabel(r\"$x_{\\infty}$\")\n",
    "    plt.grid()\n",
    "    plt.title('Bifurcation Plot')\n",
    "\n",
    "bif_diag_rk4(fun_third)"
   ]
  },
  {
   "cell_type": "markdown",
   "metadata": {},
   "source": [
    "**4)** Can we find all the steady states of our system for a given value of $\\mu$ with this method?\n",
    "\n",
    "## Part 2: Newton's method: a complete bifurcation diagram\n",
    "\n",
    "We need another technique if we want to find the unstable steady states. **Newton's method** is a general technique that find the zeros of a function independently of how stable these zeros are in the context of a dynamical system.\n",
    "\n",
    "For a function $f$ defined over the real numbers, starting from a real $x_0$, Newton's method converges towards a zero of $f$ through the following recurrent sequence:\n",
    "$$\n",
    "    x_{n+1} = x_n - \\frac{f(x_n)}{f^\\prime(x_n)}\n",
    "$$\n",
    "Obviously the choice of $x_0$ will be determinant to the limit value of the previous sequence. We will need to try several initial conditions to find every zero of $f$.\n",
    "\n",
    "**5)** Build a *newton* routine that computes the value of $x_{n+1}$ as a function of $f$, $f^\\prime$ and $x_n$."
   ]
  },
  {
   "cell_type": "code",
   "execution_count": 25,
   "metadata": {},
   "outputs": [],
   "source": [
    "def newton(x, f, d, reg=True):\n",
    "    if reg:\n",
    "        eps = 1e-6\n",
    "        return x - f(x)/(d(x) + eps)\n",
    "    else:\n",
    "        return x - f(x)/d(x)"
   ]
  },
  {
   "cell_type": "markdown",
   "metadata": {},
   "source": [
    "**6)** Observe Newton's method quadratic convergence to a zero of $f_\\mu$ polynomial printing $\\left(f_\\mu\\left(x_n\\right)\\right)_n$ first terms for given values of $x_0$ and $\\mu$. Do we always have a quadratic convergence of this method?"
   ]
  },
  {
   "cell_type": "code",
   "execution_count": 9,
   "metadata": {},
   "outputs": [],
   "source": [
    "def deriv(x):\n",
    "    return -3*x**2 + 5"
   ]
  },
  {
   "cell_type": "code",
   "execution_count": 10,
   "metadata": {},
   "outputs": [
    {
     "data": {
      "image/png": "[encoded data removed]",
      "text/plain": [
       "<Figure size 432x288 with 1 Axes>"
      ]
     },
     "metadata": {
      "needs_background": "light"
     },
     "output_type": "display_data"
    }
   ],
   "source": [
    "def newton_convergence(x0, mu, steps):\n",
    "    xs = np.array([x0])\n",
    "    \n",
    "    for i in range(steps):\n",
    "        x = newton(xs[i], lambda x: fun(x, mu), deriv)\n",
    "        xs = np.append(xs, x)\n",
    "    \n",
    "    plt.plot(fun(xs, mu))\n",
    "    plt.xlabel(\"iteration\")\n",
    "    plt.ylabel(r'$f_{{{0}}}(x)$'.format(mu))\n",
    "    plt.grid()\n",
    "    plt.title('Newton Plot')\n",
    "\n",
    "newton_convergence(1, 0, 1000)"
   ]
  },
  {
   "cell_type": "markdown",
   "metadata": {},
   "source": [
    "**7)** Plot a new bifurcation diagram of our dynamical system using Newton's method. Does it seem complete now?"
   ]
  },
  {
   "cell_type": "code",
   "execution_count": 27,
   "metadata": {},
   "outputs": [
    {
     "data": {
      "image/png": "[encoded data removed]",
      "text/plain": [
       "<Figure size 864x504 with 1 Axes>"
      ]
     },
     "metadata": {
      "needs_background": "light"
     },
     "output_type": "display_data"
    }
   ],
   "source": [
    "def bif_diag_newton(f, der, steps=300, mu_range=[-10, 10], mu_steps=64, x0_range = [-5, 5], x0_steps = 16):\n",
    "    \"\"\"\n",
    "    The function f should have x has first argument and mu has second argument.\n",
    "    \"\"\"\n",
    "    x0s = np.linspace(x0_range[0], x0_range[1], x0_steps)\n",
    "    mus = np.linspace(mu_range[0], mu_range[1], mu_steps)\n",
    "    \n",
    "    plt.figure(figsize = (12, 7))\n",
    "    for i in range(len(mus)):\n",
    "        for j in range(len(x0s)):\n",
    "            asymp = x0s[j]\n",
    "            for k in range(steps):\n",
    "                #asymp = newton(asymp, lambda x: f(x, mus[i]), der)\n",
    "                asymp = newton(asymp, lambda x: f(x, mus[i]), der, reg=True)\n",
    "                #asymp - fun(asymp,mus[i])/deriv(asymp)\n",
    "            plt.scatter(mus[i], asymp, marker='.', color='black')\n",
    "            \n",
    "    plt.xlabel(r\"$\\mu$\")\n",
    "    plt.ylabel(r\"$x_{\\infty}$\")\n",
    "    plt.grid()\n",
    "    plt.ylim([-5,5])\n",
    "    plt.title('Bifurcation Plot')\n",
    "    \n",
    "bif_diag_newton(fun_third, deriv)"
   ]
  },
  {
   "cell_type": "markdown",
   "metadata": {},
   "source": [
    "## Bonus part: The Newton fractal\n",
    "\n",
    "The [Newton fractal](https://en.wikipedia.org/wiki/Newton_fractal) is a fractal figure which stems from the application of Newton's method to the following complex polynomial:\n",
    "$$\n",
    "    f(z) = z^3 - 1\n",
    "$$\n",
    "The roots of the previous polynomial are well known, these are the third roots of unity: $\\{1, e^{\\frac{2i\\pi}{3}}, e^{-\\frac{2i\\pi}{3}}\\}$. Still, it is interesting to approximate these roots with a Newton's method applied to a regulard grid of initial values in the complex plane as spectacular properties of convergence come out from Newton's algorithm.\n",
    "\n",
    "In the following, we will identify $\\mathbb{C}$ to $\\mathbb{R}^2$ for pedagogical purposes. Therefore Newton's method is to be applied to a function $f:\\mathbb{R}^2\\rightarrow\\mathbb{R}^2$ defined as follows:\n",
    "$$\n",
    "    f (x, y) = \\left( \\begin{array}{c} f_1 (x,y) \\\\ f_2 (x,y)\\end{array}\\right) = \\left( \\begin{array}{c} \\Re\\left(\\left(x+iy\\right)^3 - 1\\right) \\\\ \\Im\\left(\\left(x+iy\\right)^3 - 1\\right)\\end{array}\\right)\n",
    "$$\n",
    "where $\\Re$ and $\\Im$ respectively denotes the real and imaginary part of a given complex number.\n",
    "\n",
    "For a vector-valued function such as above $f$ function, Newton's method can be written as follows:\n",
    "$$\n",
    "    X_{n+1} = X_n - \\left[\\text{D}f(X_n)\\right]^{-1}f(X_n)\n",
    "$$\n",
    "where $X_n$ is a vector (of dimension 2 for above $f$ function) and $\\text{D}f(X_n)$ is the Jacobian matrix of $f$ at $X_n$. We recall the general expression of the Jacobian matrix for a function $f:\\mathbb{R}^m\\rightarrow\\mathbb{R}^m$:\n",
    "$$\n",
    "    \\text{D}f(X) = \\left(\\frac{\\partial f_i}{\\partial x_j}(X)\\right)_{i, j\\in\\{1,...,m\\}}\n",
    "$$\n",
    "\n",
    "**8)** What are the analytical expressions of $f$ and $\\text{D}f$?"
   ]
  },
  {
   "cell_type": "markdown",
   "metadata": {},
   "source": [
    "By saying that the actual vector of $\\mathbb{R}^2$ is $X$ and the two components are $x$ and $y$ the expression for the function:\n",
    "$$\n",
    "f(x, y) = \\begin{pmatrix}x^3 - 3 y^2 x -1 \\\\ 3x^2 y - y^3 \\end{pmatrix} \n",
    "$$\n",
    "and the jacobian:\n",
    "$$\n",
    "\\frac{\\partial \\{f_1, f_2\\}}{\\partial \\{ x,y\\}}(x,y) = \\begin{pmatrix} 3x^2 - 3y^2 & - 6 y x \\\\ 6xy & 3x^2 -3y^2\\end{pmatrix}\n",
    "$$"
   ]
  },
  {
   "cell_type": "markdown",
   "metadata": {},
   "source": [
    "**9)** Perform Newton's method on $f$ for a dense enough 2D grid of initial conditions and for a uniform number of Newton iterations. We will use [scipy.linalg.inv](https://docs.scipy.org/doc/scipy/reference/generated/scipy.linalg.inv.html) function to invert the Jacobian matrix."
   ]
  },
  {
   "cell_type": "code",
   "execution_count": 43,
   "metadata": {},
   "outputs": [],
   "source": [
    "import scipy.linalg as la\n",
    "\n",
    "def jacobian(point):\n",
    "    x = point[0]\n",
    "    y = point[1]\n",
    "    return np.array([[3*x**2 - 3*y**2, -6*x*y] , [6*x*y, 3*x**2 - 3*y**2]])\n",
    "\n",
    "def function(point):\n",
    "    x = point[0]\n",
    "    y = point[1]\n",
    "    return np.array([x**3 - 3*x*y**2 - 1,3*x**2*y - y**3])\n",
    "\n",
    "def dist(point1, point2):\n",
    "    return np.sqrt(np.sum((point1-point2)**2))\n",
    "\n",
    "origin = np.array([0,0])"
   ]
  },
  {
   "cell_type": "code",
   "execution_count": 44,
   "metadata": {},
   "outputs": [],
   "source": [
    "def newton_2d(init_point, f, jac, sigma=0.01, max_iter=1000):\n",
    "    point = init_point\n",
    "    i = 0\n",
    "    while dist(f(point),origin) > sigma or i > max_iter:\n",
    "        D = jac(point)\n",
    "        point = point - np.dot(la.inv(D), f(point))\n",
    "        i += 1\n",
    "    return point"
   ]
  },
  {
   "cell_type": "markdown",
   "metadata": {},
   "source": [
    "**10)** Plot using [pcolor](https://matplotlib.org/api/_as_gen/matplotlib.pyplot.pcolor.html) function for each point of the previous grid of initial conditions the complex argument of the final term of the Newton sequence (we can use [numpy.angle](https://docs.scipy.org/doc/numpy/reference/generated/numpy.angle.html) function to do that). You should observe a fractal figure called the *Newton fractal*. Does Newton's method always converge in this case?"
   ]
  },
  {
   "cell_type": "code",
   "execution_count": 45,
   "metadata": {},
   "outputs": [],
   "source": [
    "def print_newton_fractal(size=512, x_range=[-5,5], y_range=[-5,5]):\n",
    "    xs = np.linspace(x_range[0], x_range[1], size)\n",
    "    ys = np.linspace(y_range[0], y_range[1], size)\n",
    "    \n",
    "    frac = np.empty((size, size))\n",
    "    for i in range(size):\n",
    "        for j in range(size):\n",
    "            point = newton_2d([xs[i], ys[j]], function, jacobian, sigma=1e-2)\n",
    "            frac[i,j] = np.angle(point[0] + 1j * point[1])\n",
    "    \n",
    "    plt.pcolor(frac)\n",
    "    plt.show()"
   ]
  },
  {
   "cell_type": "code",
   "execution_count": 46,
   "metadata": {},
   "outputs": [
    {
     "data": {
      "image/png": "[encoded data removed]",
      "text/plain": [
       "<Figure size 432x288 with 1 Axes>"
      ]
     },
     "metadata": {
      "needs_background": "light"
     },
     "output_type": "display_data"
    }
   ],
   "source": [
    "print_newton_fractal()"
   ]
  },
  {
   "cell_type": "code",
   "execution_count": null,
   "metadata": {},
   "outputs": [],
   "source": []
  }
 ],
 "metadata": {
  "kernelspec": {
   "display_name": "Python 3",
   "language": "python",
   "name": "python3"
  },
  "language_info": {
   "codemirror_mode": {
    "name": "ipython",
    "version": 3
   },
   "file_extension": ".py",
   "mimetype": "text/x-python",
   "name": "python",
   "nbconvert_exporter": "python",
   "pygments_lexer": "ipython3",
   "version": "3.8.3"
  }
 },
 "nbformat": 4,
 "nbformat_minor": 2
}
